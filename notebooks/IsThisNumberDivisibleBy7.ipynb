{
 "cells": [
  {
   "cell_type": "markdown",
   "metadata": {},
   "source": [
    "# Finding out if a 3 digit number is divisible by 7\n",
    "\n",
    "\n",
    "Someone told me that you could find out if a 3 digit number, perhaps 364, is divisible by 7, by doing the following:\n",
    "\n",
    "1. First, the last digit of the number is selected.\n",
    "\n",
    "\\begin{equation}\n",
    "\n",
    "364 \\rightarrow 36\\;\\; 4\n",
    "\n",
    "\\end{equation}\n",
    "\n",
    "2. Then, the last digit is scaled by 2, and subtracted from the first two digits:\n",
    "\n",
    "\\begin{equation}\n",
    "\n",
    "36 - 2 (4) = 36 - 8  = 28\n",
    "\n",
    "\\end{equation}\n",
    "\n",
    "3. Now, since the residue of 28 and 7 is zero, the residue of the initial 3 digit number is zero as well:\n",
    "\n"
   ]
  },
  {
   "cell_type": "code",
   "execution_count": 6,
   "metadata": {},
   "outputs": [],
   "source": [
    "\n",
    "# Now we will write a function that     \n",
    "# 1. takes a number as input    \n",
    "# 2. checks if the number is divisible by 7\n",
    "# 3. returns True if the number is divisible by 7\n",
    "# 4. returns False otherwise\n",
    "\n",
    "# Function definition\n",
    "def divisible_by_7(number):\n",
    "    last_digit = int(str(number)[-1])\n",
    "    first_two_digits = int(str(number)[:-1])\n",
    "    if (first_two_digits - 2 * last_digit) % 7 == 0:\n",
    "        return print('This number is divisible by 7')\n",
    "    else:\n",
    "        return print('This number is not divisible by 7')\n"
   ]
  },
  {
   "cell_type": "markdown",
   "metadata": {},
   "source": [
    "Now it can be tested:"
   ]
  },
  {
   "cell_type": "code",
   "execution_count": 7,
   "metadata": {},
   "outputs": [
    {
     "name": "stdout",
     "output_type": "stream",
     "text": [
      "This number is divisible by 7\n"
     ]
    }
   ],
   "source": [
    "divisible_by_7(364)"
   ]
  }
 ],
 "metadata": {
  "kernelspec": {
   "display_name": "Python 3",
   "language": "python",
   "name": "python3"
  },
  "language_info": {
   "codemirror_mode": {
    "name": "ipython",
    "version": 3
   },
   "file_extension": ".py",
   "mimetype": "text/x-python",
   "name": "python",
   "nbconvert_exporter": "python",
   "pygments_lexer": "ipython3",
   "version": "3.10.8"
  },
  "orig_nbformat": 4
 },
 "nbformat": 4,
 "nbformat_minor": 2
}
