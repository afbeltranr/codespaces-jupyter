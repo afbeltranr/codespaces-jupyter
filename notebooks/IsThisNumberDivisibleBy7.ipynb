{
 "cells": [
  {
   "cell_type": "markdown",
   "metadata": {},
   "source": [
    "# Finding out if a 3 digit number is divisible by 7\n",
    "\n",
    "\n",
    "Someone told me that you could find out if a 3 digit number, perhaps 364, is divisible by 7, by doing the following:\n",
    "\n",
    "1. First, the last digit of the number is selected.\n",
    "\n",
    "\\begin{equation}\n",
    "\n",
    "364 \\rightarrow 36\\;\\; 4\n",
    "\n",
    "\\end{equation}\n",
    "\n",
    "2. Then, the last digit is scaled by 2, and subtracted from the first two digits:\n",
    "\n",
    "\\begin{equation}\n",
    "\n",
    "36 - 2 (4) = 36 - 8  = 28\n",
    "\n",
    "\\end{equation}\n",
    "\n",
    "3. Now, since the residue of 28 and 7 is zero, the residue of the initial 3 digit number is zero as well:\n",
    "\n"
   ]
  },
  {
   "cell_type": "code",
   "execution_count": 1,
   "metadata": {},
   "outputs": [
    {
     "data": {
      "text/plain": [
       "True"
      ]
     },
     "execution_count": 1,
     "metadata": {},
     "output_type": "execute_result"
    }
   ],
   "source": [
    "# Now we will write a function that     # 1. takes a number as input    \n",
    "#                                      # 2. checks if the number is divisible by 7\n",
    "#                                      # 3. returns True if the number is divisible by 7\n",
    "#                                      # 4. returns False otherwise\n",
    "\n",
    "# Function definition\n",
    "\n",
    "divisible_by_7 = lambda x: x % 7 == 0\n",
    "divisible_by_7(364)"
   ]
  }
 ],
 "metadata": {
  "kernelspec": {
   "display_name": "Python 3",
   "language": "python",
   "name": "python3"
  },
  "language_info": {
   "codemirror_mode": {
    "name": "ipython",
    "version": 3
   },
   "file_extension": ".py",
   "mimetype": "text/x-python",
   "name": "python",
   "nbconvert_exporter": "python",
   "pygments_lexer": "ipython3",
   "version": "3.10.8"
  },
  "orig_nbformat": 4
 },
 "nbformat": 4,
 "nbformat_minor": 2
}
